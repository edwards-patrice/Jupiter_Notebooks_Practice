{
 "cells": [
  {
   "cell_type": "markdown",
   "id": "5146f33b-576e-47c4-bf1b-abb8c12918e9",
   "metadata": {},
   "source": [
    "# Data Science Tools and Ecosystems\n"
   ]
  },
  {
   "cell_type": "markdown",
   "id": "66d454ae-44e2-48e7-b16d-f1384f747674",
   "metadata": {},
   "source": [
    "In this notebook, data science tools and Ecosystem are summarized.\n"
   ]
  },
  {
   "cell_type": "markdown",
   "id": "770934ac-83ae-4eeb-8fbf-0b627862867d",
   "metadata": {},
   "source": [
    "**Objectives:**\n",
    "\n",
    "- List popular languages for data science\n",
    "- Identify commonly used languages by data scientists\n",
    "- Create tables of open-source development tools\n",
    "- Demonstrate arithmetic expression examples in Python\n",
    "- Convert minutes into hours using Python code\n"
   ]
  },
  {
   "cell_type": "markdown",
   "id": "0b759873-c6eb-4f80-9a1a-00784d6f13a1",
   "metadata": {},
   "source": [
    "Some of the popular languages that Data Scientists use are:\n",
    "\n",
    "1. Python  \n",
    "2. R  \n",
    "3. SQL  \n",
    "4. Java  \n",
    "5. Julia  "
   ]
  },
  {
   "cell_type": "markdown",
   "id": "d22b9158-7f04-4816-91e6-5cfcca4139ac",
   "metadata": {},
   "source": [
    "Some of the commonly used libraries used by Data Scientists include:\n",
    "\n",
    "1. Pandas  \n",
    "2. NumPy  \n",
    "3. Matplotlib  \n",
    "4. Scikit-learn  \n",
    "5. TensorFlow  "
   ]
  },
  {
   "cell_type": "markdown",
   "id": "e18f2a9d-b99b-4024-9d76-289c57ecdc3c",
   "metadata": {},
   "source": [
    "|Data Sciecne Tools|\n",
    "|------------------|\n",
    "|Jupyter Noteboob  |\n",
    "|R Studio          |\n",
    "|Apache Zepplin    |\n",
    "\n"
   ]
  },
  {
   "cell_type": "markdown",
   "id": "9c735622-1286-422d-8b05-2caa4d0f5226",
   "metadata": {},
   "source": [
    "### Below are a few examples of evaluating arithmetic expressions in Python."
   ]
  },
  {
   "cell_type": "code",
   "execution_count": 11,
   "id": "47ad94ec-5561-44d9-8582-030d0f9eb580",
   "metadata": {},
   "outputs": [
    {
     "data": {
      "text/plain": [
       "17"
      ]
     },
     "execution_count": 11,
     "metadata": {},
     "output_type": "execute_result"
    }
   ],
   "source": [
    "#This is a simple arithmetic expression to multiply and then add integers.\n",
    "(3*4)+5"
   ]
  },
  {
   "cell_type": "code",
   "execution_count": 12,
   "id": "c5b45a2a-469a-4b16-ad30-4b34dba788a1",
   "metadata": {},
   "outputs": [
    {
     "data": {
      "text/plain": [
       "3.3333333333333335"
      ]
     },
     "execution_count": 12,
     "metadata": {},
     "output_type": "execute_result"
    }
   ],
   "source": [
    "#This will convert 200 minutes to hours by dividing by 60.\n",
    "200/60"
   ]
  },
  {
   "cell_type": "markdown",
   "id": "7f5d1635-305e-480b-9ce6-f70f513314ff",
   "metadata": {},
   "source": [
    "## Author \n",
    "Patrice Edwards"
   ]
  }
 ],
 "metadata": {
  "kernelspec": {
   "display_name": "Python [conda env:base] *",
   "language": "python",
   "name": "conda-base-py"
  },
  "language_info": {
   "codemirror_mode": {
    "name": "ipython",
    "version": 3
   },
   "file_extension": ".py",
   "mimetype": "text/x-python",
   "name": "python",
   "nbconvert_exporter": "python",
   "pygments_lexer": "ipython3",
   "version": "3.12.7"
  }
 },
 "nbformat": 4,
 "nbformat_minor": 5
}
